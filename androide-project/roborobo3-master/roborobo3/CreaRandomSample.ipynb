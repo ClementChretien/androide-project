{
 "cells": [
  {
   "cell_type": "code",
   "execution_count": 4,
   "metadata": {},
   "outputs": [],
   "source": [
    "import random"
   ]
  },
  {
   "cell_type": "code",
   "execution_count": 5,
   "metadata": {},
   "outputs": [
    {
     "name": "stdout",
     "output_type": "stream",
     "text": [
      "364\n"
     ]
    }
   ],
   "source": [
    "comb1 = []\n",
    "n = 11\n",
    "for r in range(0,n+1):\n",
    "    for c in range(0,n+1-r):\n",
    "        for b in range(0,n+1-r-c):\n",
    "            h = n  - r-c-b\n",
    "            comb1.append((r,c,b,h))\n",
    "print(len(comb1))"
   ]
  },
  {
   "cell_type": "code",
   "execution_count": 6,
   "metadata": {},
   "outputs": [
    {
     "name": "stdout",
     "output_type": "stream",
     "text": [
      "286\n"
     ]
    }
   ],
   "source": []
  },
  {
   "cell_type": "code",
   "execution_count": 7,
   "metadata": {
    "scrolled": true
   },
   "outputs": [
    {
     "data": {
      "text/plain": [
       "[(2, 1, 0, 7),\n",
       " (2, 4, 0, 4),\n",
       " (0, 2, 0, 8),\n",
       " (2, 3, 3, 2),\n",
       " (1, 3, 5, 1),\n",
       " (3, 4, 0, 3),\n",
       " (2, 4, 3, 1),\n",
       " (1, 3, 4, 2),\n",
       " (1, 1, 4, 4),\n",
       " (3, 2, 0, 5),\n",
       " (3, 2, 3, 2),\n",
       " (8, 0, 1, 1),\n",
       " (0, 2, 2, 6),\n",
       " (5, 2, 1, 2),\n",
       " (4, 4, 2, 0),\n",
       " (4, 0, 5, 1),\n",
       " (0, 5, 2, 3),\n",
       " (0, 2, 7, 1),\n",
       " (4, 3, 1, 2),\n",
       " (0, 1, 3, 6),\n",
       " (10, 0, 0, 0),\n",
       " (1, 7, 2, 0),\n",
       " (7, 0, 0, 3),\n",
       " (3, 3, 2, 2),\n",
       " (3, 1, 2, 4),\n",
       " (2, 6, 0, 2),\n",
       " (2, 3, 2, 3),\n",
       " (5, 0, 5, 0),\n",
       " (0, 0, 9, 1),\n",
       " (6, 1, 1, 2),\n",
       " (6, 2, 0, 2),\n",
       " (0, 1, 6, 3),\n",
       " (1, 2, 1, 6),\n",
       " (5, 1, 2, 2),\n",
       " (1, 1, 5, 3),\n",
       " (2, 0, 6, 2),\n",
       " (2, 4, 2, 2),\n",
       " (0, 2, 4, 4),\n",
       " (3, 0, 6, 1),\n",
       " (0, 4, 4, 2),\n",
       " (4, 3, 2, 1),\n",
       " (0, 1, 0, 9),\n",
       " (2, 0, 0, 8),\n",
       " (8, 1, 0, 1),\n",
       " (0, 3, 7, 0),\n",
       " (5, 0, 3, 2),\n",
       " (7, 1, 2, 0),\n",
       " (0, 5, 1, 4),\n",
       " (3, 7, 0, 0),\n",
       " (1, 6, 2, 1),\n",
       " (4, 1, 3, 2),\n",
       " (1, 8, 0, 1),\n",
       " (0, 0, 6, 4),\n",
       " (0, 0, 8, 2),\n",
       " (4, 2, 3, 1),\n",
       " (0, 0, 4, 6),\n",
       " (0, 6, 4, 0),\n",
       " (1, 0, 0, 9),\n",
       " (1, 0, 4, 5),\n",
       " (4, 4, 0, 2),\n",
       " (4, 4, 1, 1),\n",
       " (5, 4, 1, 0),\n",
       " (6, 0, 3, 1),\n",
       " (3, 2, 1, 4),\n",
       " (1, 1, 2, 6),\n",
       " (0, 3, 0, 7),\n",
       " (0, 1, 9, 0),\n",
       " (0, 3, 5, 2),\n",
       " (6, 1, 0, 3),\n",
       " (5, 3, 0, 2),\n",
       " (2, 3, 1, 4),\n",
       " (4, 0, 6, 0),\n",
       " (3, 2, 4, 1),\n",
       " (4, 1, 5, 0),\n",
       " (2, 0, 2, 6),\n",
       " (2, 4, 1, 3),\n",
       " (0, 0, 7, 3),\n",
       " (0, 4, 5, 1),\n",
       " (2, 3, 4, 1),\n",
       " (0, 4, 3, 3),\n",
       " (5, 1, 0, 4),\n",
       " (0, 6, 2, 2),\n",
       " (3, 4, 2, 1),\n",
       " (2, 1, 5, 2),\n",
       " (2, 2, 3, 3),\n",
       " (0, 1, 5, 4),\n",
       " (0, 1, 4, 5),\n",
       " (0, 5, 4, 1),\n",
       " (2, 0, 8, 0),\n",
       " (2, 8, 0, 0),\n",
       " (1, 1, 6, 2),\n",
       " (4, 2, 0, 4),\n",
       " (9, 1, 0, 0),\n",
       " (4, 0, 1, 5),\n",
       " (0, 1, 8, 1),\n",
       " (7, 0, 1, 2),\n",
       " (4, 1, 0, 5),\n",
       " (4, 1, 4, 1),\n",
       " (4, 1, 2, 3),\n",
       " (3, 0, 4, 3),\n",
       " (0, 7, 3, 0),\n",
       " (9, 0, 0, 1),\n",
       " (1, 0, 8, 1),\n",
       " (2, 6, 2, 0),\n",
       " (5, 2, 3, 0),\n",
       " (1, 6, 3, 0),\n",
       " (5, 1, 1, 3),\n",
       " (1, 5, 4, 0),\n",
       " (3, 0, 1, 6),\n",
       " (0, 2, 6, 2),\n",
       " (3, 5, 2, 0),\n",
       " (0, 1, 2, 7),\n",
       " (1, 2, 6, 1),\n",
       " (2, 2, 5, 1),\n",
       " (3, 0, 3, 4),\n",
       " (0, 2, 1, 7),\n",
       " (0, 8, 2, 0),\n",
       " (5, 0, 4, 1),\n",
       " (1, 5, 1, 3),\n",
       " (4, 0, 0, 6),\n",
       " (4, 2, 1, 3),\n",
       " (1, 6, 0, 3),\n",
       " (6, 0, 1, 3),\n",
       " (1, 2, 3, 4),\n",
       " (2, 1, 3, 4),\n",
       " (2, 0, 1, 7),\n",
       " (2, 0, 3, 5),\n",
       " (2, 2, 4, 2),\n",
       " (7, 1, 0, 2),\n",
       " (0, 2, 3, 5),\n",
       " (1, 7, 0, 2),\n",
       " (6, 3, 1, 0),\n",
       " (4, 1, 1, 4),\n",
       " (1, 4, 0, 5),\n",
       " (2, 1, 4, 3),\n",
       " (0, 0, 10, 0),\n",
       " (1, 5, 3, 1),\n",
       " (0, 4, 6, 0),\n",
       " (0, 6, 0, 4),\n",
       " (2, 3, 0, 5),\n",
       " (3, 4, 1, 2),\n",
       " (2, 0, 5, 3),\n",
       " (6, 0, 2, 2)]"
      ]
     },
     "execution_count": 7,
     "metadata": {},
     "output_type": "execute_result"
    }
   ],
   "source": [
    "\n"
   ]
  },
  {
   "cell_type": "code",
   "execution_count": 14,
   "metadata": {},
   "outputs": [],
   "source": [
    "def createAndSaveRandomSampling(nbAg,pourcentage):\n",
    "    comb = []\n",
    "    n = nbAg\n",
    "    for r in range(0,n+1):\n",
    "        for c in range(0,n+1-r):\n",
    "            for b in range(0,n+1-r-c):\n",
    "                h = n  - r-c-b\n",
    "                comb.append((r,c,b,h))\n",
    "    print(len(comb))\n",
    "\n",
    "    sampledComb = random.sample(comb,int(len(comb)*(pourcentage/100)))\n",
    "    combPlus1 = []\n",
    "    for i in sampledComb:\n",
    "        a,b,c,d = i\n",
    "        if((a+1,b,c,d) not in combPlus1):\n",
    "            combPlus1.append((a+1,b,c,d))\n",
    "        if((a,b+1,c,d) not in combPlus1):\n",
    "            combPlus1.append((a,b+1,c,d))\n",
    "        if((a,b,c+1,d) not in combPlus1):\n",
    "            combPlus1.append((a,b,c+1,d))\n",
    "        if((a,b,c,d+1) not in combPlus1):\n",
    "            combPlus1.append((a,b,c,d+1))\n",
    "    print(len(comb))\n",
    "    print(len(sampledComb))\n",
    "    print(len(combPlus1))\n",
    "    saveInFile(sampledComb,\"RSV\"+str(n)+\"_\"+pourcentage+\".txt\")\n",
    "    saveInFile(combPlus1,\"RSV\"+str(n)+\"to\"+str(n+1)+\"_\"+pourcentage+\".txt\")"
   ]
  },
  {
   "cell_type": "code",
   "execution_count": 9,
   "metadata": {},
   "outputs": [],
   "source": [
    "def saveInFile(tab,file):\n",
    "    f = open(file,'w')\n",
    "    for i in tab:\n",
    "        a,b,c,d= i\n",
    "        f.write(str(a)+\" \"+str(b)+\" \"+str(c)+\" \"+str(d)+\"\\n\")\n",
    "    f.close\n",
    "    "
   ]
  },
  {
   "cell_type": "code",
   "execution_count": 10,
   "metadata": {},
   "outputs": [],
   "source": []
  }
 ],
 "metadata": {
  "kernelspec": {
   "display_name": "Python 3",
   "language": "python",
   "name": "python3"
  },
  "language_info": {
   "codemirror_mode": {
    "name": "ipython",
    "version": 3
   },
   "file_extension": ".py",
   "mimetype": "text/x-python",
   "name": "python",
   "nbconvert_exporter": "python",
   "pygments_lexer": "ipython3",
   "version": "3.5.3"
  }
 },
 "nbformat": 4,
 "nbformat_minor": 2
}
