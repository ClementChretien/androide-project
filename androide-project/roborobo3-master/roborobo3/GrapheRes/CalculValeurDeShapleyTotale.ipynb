{
 "cells": [
  {
   "cell_type": "code",
   "execution_count": 1,
   "metadata": {},
   "outputs": [],
   "source": [
    "import math\n",
    "import matplotlib.pyplot as plt\n",
    "import random\n",
    "pourcentage = 15\n",
    "iAgent = 1\n",
    "iMaxAgent = 10"
   ]
  },
  {
   "cell_type": "code",
   "execution_count": 2,
   "metadata": {},
   "outputs": [],
   "source": [
    "def getTabFile(f):\n",
    "    fp = open(f,'r')\n",
    "    line = fp.readline()\n",
    "    d = dict()\n",
    "    i = 0\n",
    "    while line:\n",
    "        if not('R' in line):\n",
    "            comb,val = line.split(\" \") \n",
    "            d[comb]=val\n",
    "        line = fp.readline()\n",
    "    fp.close()\n",
    "    return d\n",
    "\n",
    "\n",
    "def findValueInFile(f,val):\n",
    "    fp = open(f,'r')\n",
    "    line = fp.readline()\n",
    "    while line:\n",
    "        if(val in line):\n",
    "            comb,val = line.split(\" \")\n",
    "            fp.close()\n",
    "            return val\n",
    "        line = fp.readline()\n",
    "\n",
    "    fp.close()\n",
    "    return -1\n",
    "\n",
    "\n"
   ]
  },
  {
   "cell_type": "code",
   "execution_count": 17,
   "metadata": {},
   "outputs": [],
   "source": [
    "\n",
    "def calcShapley(iAgent,iMaxAgent,pourcentage = 100):\n",
    "    dic = dict()\n",
    "    for i in range(1,10):\n",
    "        fName = \"ResultatEval\"+str(i)+\".txt\"\n",
    "        dic[i] = getTabFile(fName)\n",
    "        \n",
    "    calcMargFile = open(\"CalculContribMarginaleRSV\"+str(pourcentage)+\"_Totaltxt\",\"w\")\n",
    "    agent = ['R','B','C','H']\n",
    "    comb=[]\n",
    "    k=dic.keys()\n",
    "\n",
    "    for r in range(3):\n",
    "        for c in range(3):\n",
    "            for b in range(3):\n",
    "                for h in range(3):\n",
    "                    if(h+r+c+b==0):\n",
    "                        comb.append( [1,b,c,h])\n",
    "                    else:\n",
    "                        comb.append( [r,b,c,h])\n",
    "    val = []\n",
    "    for ag in range(len(agent)):\n",
    "        somme = 0\n",
    "        for co in comb:\n",
    "            toFind6 = str(co[0])+\"/\"+str(co[1])+\"/\"+str(co[2])+\"/\"+str(co[3])\n",
    "            n = co[0]+co[1]+co[2]+co[3]\n",
    "            cn = int(dic[n][toFind6])\n",
    "            toFind7 = str(co[0]+int(ag==0))+\"/\"+str(co[1]+int(ag==1))+\"/\"+str(co[2]+int(ag==2))+\"/\"+str(co[3]+int(ag==3))\n",
    "            n2=co[0]+int(ag==0)+co[1]+int(ag==1)+co[2]+int(ag==2)+co[3]+int(ag==3)\n",
    "            cn1 = int(dic[n2][toFind7])\n",
    "            somme+=(cn1-cn)\n",
    "        somme = somme/(math.factorial(len(agent))*(pourcentage/100))\n",
    "        print(\"contribMarg de \"+str(agent[ag])+\" : \" +str(somme)+\"\\n\")\n",
    "        calcMargFile.write(str(agent[ag])+\" \" +str(somme)+\"\\n\")\n",
    "        val.append(somme)\n",
    "    calcMargFile.close()\n",
    "\n",
    "    plt.bar([1,2,3,4],val)\n",
    "    plt.xticks([1,2,3,4],agent)\n",
    "    plt.show()\n"
   ]
  },
  {
   "cell_type": "code",
   "execution_count": 18,
   "metadata": {},
   "outputs": [
    {
     "name": "stdout",
     "output_type": "stream",
     "text": [
      "contribMarg de R : -15.000000000000002\n",
      "\n",
      "contribMarg de B : 90.55555555555557\n",
      "\n",
      "contribMarg de C : 93.8888888888889\n",
      "\n",
      "contribMarg de H : 100.83333333333334\n",
      "\n"
     ]
    },
    {
     "data": {
      "image/png": "[encoded data removed]",
      "text/plain": [
       "<Figure size 432x288 with 1 Axes>"
      ]
     },
     "metadata": {},
     "output_type": "display_data"
    }
   ],
   "source": [
    "calcShapley(iAgent,iMaxAgent,pourcentage)"
   ]
  }
 ],
 "metadata": {
  "kernelspec": {
   "display_name": "Python 3",
   "language": "python",
   "name": "python3"
  },
  "language_info": {
   "codemirror_mode": {
    "name": "ipython",
    "version": 3
   },
   "file_extension": ".py",
   "mimetype": "text/x-python",
   "name": "python",
   "nbconvert_exporter": "python",
   "pygments_lexer": "ipython3",
   "version": "3.5.3"
  }
 },
 "nbformat": 4,
 "nbformat_minor": 2
}
