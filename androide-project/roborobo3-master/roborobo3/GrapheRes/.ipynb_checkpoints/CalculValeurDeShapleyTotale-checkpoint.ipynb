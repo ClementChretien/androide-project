{
 "cells": [
  {
   "cell_type": "code",
   "execution_count": 1,
   "metadata": {},
   "outputs": [],
   "source": [
    "import math\n",
    "import matplotlib.pyplot as plt\n",
    "import random\n",
    "pourcentage = 15\n",
    "iAgent = 1\n",
    "iMaxAgent = 10"
   ]
  },
  {
   "cell_type": "code",
   "execution_count": 2,
   "metadata": {},
   "outputs": [],
   "source": [
    "def getTabFile(f):\n",
    "    fp = open(f,'r')\n",
    "    line = fp.readline()\n",
    "    d = dict()\n",
    "    i = 0\n",
    "    while line:\n",
    "        if not('R' in line):\n",
    "            comb,val = line.split(\" \") \n",
    "            d[comb]=val\n",
    "        line = fp.readline()\n",
    "    fp.close()\n",
    "    return d\n",
    "\n",
    "\n",
    "def findValueInFile(f,val):\n",
    "    fp = open(f,'r')\n",
    "    line = fp.readline()\n",
    "    while line:\n",
    "        if(val in line):\n",
    "            comb,val = line.split(\" \")\n",
    "            fp.close()\n",
    "            return val\n",
    "        line = fp.readline()\n",
    "\n",
    "    fp.close()\n",
    "    return -1\n",
    "\n",
    "\n"
   ]
  },
  {
   "cell_type": "code",
   "execution_count": 11,
   "metadata": {},
   "outputs": [],
   "source": [
    "\n",
    "def calcShapley(iAgent,iMaxAgent,pourcentage = 100):\n",
    "    dic = dict()\n",
    "    for i in range(1,10):\n",
    "        fName = \"ResultatEval\"+str(i)+\".txt\"\n",
    "        dic[i] = getTabFile(fName)\n",
    "        \n",
    "    calcMargFile = open(\"CalculContribMarginaleRSV\"+str(pourcentage)+\"_\"+str(nbAgent)+\".txt\",\"w\")\n",
    "    agent = ['R','B','C','H']\n",
    "    comb=[]\n",
    "    k=dic.keys()\n",
    "\n",
    "    for r in range(3):\n",
    "        for c in range(3):\n",
    "            for b in range(3):\n",
    "                for h in range(3):\n",
    "                    comb.append( [r,b,c,h])\n",
    "    val = []\n",
    "    for ag in range(len(agent)):\n",
    "        somme = 0\n",
    "        for co in comb:\n",
    "            toFind6 = str(co[0])+\"/\"+str(co[1])+\"/\"+str(co[2])+\"/\"+str(co[3])\n",
    "            n = co[0]+co[1]+co[2]+co[3]\n",
    "            cn = int(dic[n][toFind6])\n",
    "            toFind7 = str(co[0]+int(ag==0))+\"/\"+str(co[1]+int(ag==1))+\"/\"+str(co[2]+int(ag==2))+\"/\"+str(co[3]+int(ag==3))\n",
    "            n2=co[0]+int(ag==0)+co[1]+int(ag==1)+co[2]+int(ag==2)+co[3]+int(ag==3)\n",
    "            cn1 = int(dic[n2][toFind7])\n",
    "            somme+=(cn1-cn)\n",
    "        somme = somme/(math.factorial(len(agent))*(pourcentage/100))\n",
    "        print(\"contribMarg de \"+str(agent[ag])+\" : \" +str(somme)+\"\\n\")\n",
    "        calcMargFile.write(str(agent[ag])+\" \" +str(somme)+\"\\n\")\n",
    "        val.append(somme)\n",
    "    calcMargFile.close()\n",
    "\n",
    "    plt.bar([1,2,3,4],val)\n",
    "    plt.xticks([1,2,3,4],agent)\n",
    "    plt.show()\n"
   ]
  },
  {
   "cell_type": "code",
   "execution_count": 12,
   "metadata": {},
   "outputs": [
    {
     "name": "stdout",
     "output_type": "stream",
     "text": [
      "contribMarg de R : 0.0\n",
      "\n",
      "contribMarg de B : 0.0\n",
      "\n",
      "contribMarg de C : 0.0\n",
      "\n",
      "contribMarg de H : 0.0\n",
      "\n"
     ]
    },
    {
     "data": {
      "image/png": "[encoded data removed]",
      "text/plain": [
       "<Figure size 432x288 with 1 Axes>"
      ]
     },
     "metadata": {},
     "output_type": "display_data"
    },
    {
     "name": "stdout",
     "output_type": "stream",
     "text": [
      "contribMarg de R : 0.0\n",
      "\n",
      "contribMarg de B : 0.0\n",
      "\n",
      "contribMarg de C : 1.1111111111111112\n",
      "\n",
      "contribMarg de H : 0.0\n",
      "\n"
     ]
    },
    {
     "data": {
      "image/png": "[encoded data removed]",
      "text/plain": [
       "<Figure size 432x288 with 1 Axes>"
      ]
     },
     "metadata": {},
     "output_type": "display_data"
    },
    {
     "name": "stdout",
     "output_type": "stream",
     "text": [
      "contribMarg de R : 0.2777777777777778\n",
      "\n",
      "contribMarg de B : 9.722222222222223\n",
      "\n",
      "contribMarg de C : 4.722222222222222\n",
      "\n",
      "contribMarg de H : 4.444444444444445\n",
      "\n"
     ]
    },
    {
     "data": {
      "image/png": "[encoded data removed]",
      "text/plain": [
       "<Figure size 432x288 with 1 Axes>"
      ]
     },
     "metadata": {},
     "output_type": "display_data"
    },
    {
     "name": "stdout",
     "output_type": "stream",
     "text": [
      "contribMarg de R : 2.5000000000000004\n",
      "\n",
      "contribMarg de B : 9.722222222222223\n",
      "\n",
      "contribMarg de C : 5.555555555555556\n",
      "\n",
      "contribMarg de H : 6.111111111111112\n",
      "\n"
     ]
    },
    {
     "data": {
      "image/png": "[encoded data removed]",
      "text/plain": [
       "<Figure size 432x288 with 1 Axes>"
      ]
     },
     "metadata": {},
     "output_type": "display_data"
    },
    {
     "name": "stdout",
     "output_type": "stream",
     "text": [
      "contribMarg de R : -7.500000000000001\n",
      "\n",
      "contribMarg de B : 1.388888888888889\n",
      "\n",
      "contribMarg de C : 1.9444444444444446\n",
      "\n",
      "contribMarg de H : 5.277777777777779\n",
      "\n"
     ]
    },
    {
     "data": {
      "image/png": "[encoded data removed]",
      "text/plain": [
       "<Figure size 432x288 with 1 Axes>"
      ]
     },
     "metadata": {},
     "output_type": "display_data"
    },
    {
     "name": "stdout",
     "output_type": "stream",
     "text": [
      "contribMarg de R : 5.277777777777779\n",
      "\n",
      "contribMarg de B : 8.333333333333334\n",
      "\n",
      "contribMarg de C : 16.111111111111114\n",
      "\n",
      "contribMarg de H : 13.333333333333334\n",
      "\n"
     ]
    },
    {
     "data": {
      "image/png": "[encoded data removed]",
      "text/plain": [
       "<Figure size 432x288 with 1 Axes>"
      ]
     },
     "metadata": {},
     "output_type": "display_data"
    },
    {
     "name": "stdout",
     "output_type": "stream",
     "text": [
      "contribMarg de R : -11.111111111111112\n",
      "\n",
      "contribMarg de B : 16.944444444444446\n",
      "\n",
      "contribMarg de C : 3.3333333333333335\n",
      "\n",
      "contribMarg de H : 16.38888888888889\n",
      "\n"
     ]
    },
    {
     "data": {
      "image/png": "[encoded data removed]",
      "text/plain": [
       "<Figure size 432x288 with 1 Axes>"
      ]
     },
     "metadata": {},
     "output_type": "display_data"
    },
    {
     "name": "stdout",
     "output_type": "stream",
     "text": [
      "contribMarg de R : 7.500000000000001\n",
      "\n",
      "contribMarg de B : 28.611111111111114\n",
      "\n",
      "contribMarg de C : 34.44444444444445\n",
      "\n",
      "contribMarg de H : 36.111111111111114\n",
      "\n"
     ]
    },
    {
     "data": {
      "image/png": "[encoded data removed]",
      "text/plain": [
       "<Figure size 432x288 with 1 Axes>"
      ]
     },
     "metadata": {},
     "output_type": "display_data"
    },
    {
     "name": "stdout",
     "output_type": "stream",
     "text": [
      "contribMarg de R : -11.666666666666668\n",
      "\n",
      "contribMarg de B : 42.77777777777778\n",
      "\n",
      "contribMarg de C : 38.611111111111114\n",
      "\n",
      "contribMarg de H : 37.50000000000001\n",
      "\n"
     ]
    },
    {
     "data": {
      "image/png": "[encoded data removed]",
      "text/plain": [
       "<Figure size 432x288 with 1 Axes>"
      ]
     },
     "metadata": {},
     "output_type": "display_data"
    }
   ],
   "source": [
    "calcShapley(iAgent,iMaxAgent,pourcentage)"
   ]
  }
 ],
 "metadata": {
  "kernelspec": {
   "display_name": "Python 3",
   "language": "python",
   "name": "python3"
  },
  "language_info": {
   "codemirror_mode": {
    "name": "ipython",
    "version": 3
   },
   "file_extension": ".py",
   "mimetype": "text/x-python",
   "name": "python",
   "nbconvert_exporter": "python",
   "pygments_lexer": "ipython3",
   "version": "3.5.3"
  }
 },
 "nbformat": 4,
 "nbformat_minor": 2
}
