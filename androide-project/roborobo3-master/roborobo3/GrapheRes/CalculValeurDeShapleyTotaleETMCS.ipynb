{
 "cells": [
  {
   "cell_type": "code",
   "execution_count": 64,
   "metadata": {},
   "outputs": [],
   "source": [
    "import math\n",
    "import numpy as np\n",
    "import matplotlib.pyplot as plt\n",
    "import random\n",
    "pourcentage = 15\n",
    "iAgent = 1\n",
    "iMaxAgent = 10"
   ]
  },
  {
   "cell_type": "code",
   "execution_count": 2,
   "metadata": {},
   "outputs": [],
   "source": [
    "def getTabFile(f):\n",
    "    fp = open(f,'r')\n",
    "    line = fp.readline()\n",
    "    d = dict()\n",
    "    i = 0\n",
    "    while line:\n",
    "        if not('R' in line):\n",
    "            comb,val = line.split(\" \") \n",
    "            d[comb]=val\n",
    "        line = fp.readline()\n",
    "    fp.close()\n",
    "    return d\n",
    "\n",
    "\n",
    "def findValueInFile(f,val):\n",
    "    fp = open(f,'r')\n",
    "    line = fp.readline()\n",
    "    while line:\n",
    "        if(val in line):\n",
    "            comb,val = line.split(\" \")\n",
    "            fp.close()\n",
    "            return val\n",
    "        line = fp.readline()\n",
    "\n",
    "    fp.close()\n",
    "    return -1\n",
    "\n",
    "\n"
   ]
  },
  {
   "cell_type": "code",
   "execution_count": 3,
   "metadata": {},
   "outputs": [],
   "source": [
    "\n",
    "def calcShapley(iAgent,iMaxAgent,pourcentage = 100):\n",
    "    dic = dict()\n",
    "    for i in range(1,10):\n",
    "        fName = \"ResultatEval\"+str(i)+\".txt\"\n",
    "        dic[i] = getTabFile(fName)\n",
    "        \n",
    "    calcMargFile = open(\"CalculContribMarginaleRSV\"+str(pourcentage)+\"_Totaltxt\",\"w\")\n",
    "    agent = ['R','B','C','H']\n",
    "    comb=[]\n",
    "    k=dic.keys()\n",
    "\n",
    "    for r in range(3):\n",
    "        for c in range(3):\n",
    "            for b in range(3):\n",
    "                for h in range(3):\n",
    "                    if(h+r+c+b==0):\n",
    "                        comb.append( [1,b,c,h])\n",
    "                    else:\n",
    "                        comb.append( [r,b,c,h])\n",
    "    val = []\n",
    "    for ag in range(len(agent)):\n",
    "        somme = 0\n",
    "        for co in comb:\n",
    "            toFind6 = str(co[0])+\"/\"+str(co[1])+\"/\"+str(co[2])+\"/\"+str(co[3])\n",
    "            n = co[0]+co[1]+co[2]+co[3]\n",
    "            cn = int(dic[n][toFind6])\n",
    "            toFind7 = str(co[0]+int(ag==0))+\"/\"+str(co[1]+int(ag==1))+\"/\"+str(co[2]+int(ag==2))+\"/\"+str(co[3]+int(ag==3))\n",
    "            n2=co[0]+int(ag==0)+co[1]+int(ag==1)+co[2]+int(ag==2)+co[3]+int(ag==3)\n",
    "            cn1 = int(dic[n2][toFind7])\n",
    "            somme+=(cn1-cn)\n",
    "        somme = somme/(math.factorial(len(agent))*(pourcentage/100))\n",
    "        print(\"contribMarg de \"+str(agent[ag])+\" : \" +str(somme)+\"\\n\")\n",
    "        calcMargFile.write(str(agent[ag])+\" \" +str(somme)+\"\\n\")\n",
    "        val.append(somme)\n",
    "    calcMargFile.close()\n",
    "\n",
    "    plt.bar([1,2,3,4],val)\n",
    "    plt.xticks([1,2,3,4],agent)\n",
    "    plt.show()\n"
   ]
  },
  {
   "cell_type": "code",
   "execution_count": 12,
   "metadata": {},
   "outputs": [],
   "source": [
    "\n",
    "def calcShapleyRSV(iAgent,iMaxAgent,verbose = True):\n",
    "    pourcentages = [15,30,50,70,90,100]\n",
    "    val = dict()\n",
    "    for pourcentage in pourcentages :\n",
    "        dic = dict()\n",
    "        for i in range(1,10):\n",
    "            fName = \"ResultatEval\"+str(i)+\".txt\"\n",
    "            dic[i] = getTabFile(fName)\n",
    "\n",
    "        calcMargFile = open(\"CalculContribMarginaleRSV\"+str(pourcentage)+\"_Totaltxt\",\"w\")\n",
    "        agent = ['R','B','C','H']\n",
    "        comb=[]\n",
    "        k=dic.keys()\n",
    "\n",
    "        for r in range(3):\n",
    "            for c in range(3):\n",
    "                for b in range(3):\n",
    "                    for h in range(3):\n",
    "                        if(h+r+c+b==0):\n",
    "                            comb.append( [1,b,c,h])\n",
    "                        else:\n",
    "                            comb.append( [r,b,c,h])\n",
    "        \n",
    "        \n",
    "        comb = random.sample(comb,int(len(comb)*(pourcentage/100)))\n",
    "        val[pourcentage] = []\n",
    "        for ag in range(len(agent)):\n",
    "            somme = 0\n",
    "            for co in comb:\n",
    "                toFind6 = str(co[0])+\"/\"+str(co[1])+\"/\"+str(co[2])+\"/\"+str(co[3])\n",
    "                n = co[0]+co[1]+co[2]+co[3]\n",
    "                cn = int(dic[n][toFind6])\n",
    "                toFind7 = str(co[0]+int(ag==0))+\"/\"+str(co[1]+int(ag==1))+\"/\"+str(co[2]+int(ag==2))+\"/\"+str(co[3]+int(ag==3))\n",
    "                n2=co[0]+int(ag==0)+co[1]+int(ag==1)+co[2]+int(ag==2)+co[3]+int(ag==3)\n",
    "                cn1 = int(dic[n2][toFind7])\n",
    "                somme+=(cn1-cn)\n",
    "            somme = somme/(math.factorial(len(agent))*(pourcentage/100))\n",
    "            \n",
    "            if(verbose):\n",
    "                print(\"contribMarg de \"+str(agent[ag])+\" : \" +str(somme)+\" Pourcentage : \"+str(pourcentage)+\"\\n\")\n",
    "            calcMargFile.write(str(agent[ag])+\" \" +str(somme)+\"\\n\")\n",
    "            val[pourcentage].append(somme)\n",
    "        calcMargFile.close()\n",
    "        if(verbose):\n",
    "            plt.title(\"Contrib Marg pourcentage :\"+str(pourcentage))\n",
    "            plt.bar([1,2,3,4],val[pourcentage])\n",
    "            plt.xticks([1,2,3,4],agent)\n",
    "            plt.show()\n",
    "    return val"
   ]
  },
  {
   "cell_type": "code",
   "execution_count": 102,
   "metadata": {},
   "outputs": [],
   "source": [
    "def calculMoyenneErrorRate(nbIt):\n",
    "    val = dict()\n",
    "    moyenne=dict()\n",
    "    for i in range(0,nbIt):\n",
    "        val[i] = calcShapleyRSV(iAgent,iMaxAgent,False)\n",
    "        for k in val[i].keys():\n",
    "            if(not k in moyenne.keys()):\n",
    "                moyenne[k] = dict()\n",
    "                r,b,c,h=val[i][k]\n",
    "                moyenne[k]['r']=r\n",
    "                moyenne[k]['c']=c\n",
    "                moyenne[k]['b']=b\n",
    "                moyenne[k]['h']=h\n",
    "            else:\n",
    "                r,b,c,h=val[i][k]\n",
    "                moyenne[k]['r']+=r\n",
    "                moyenne[k]['c']+=c\n",
    "                moyenne[k]['b']+=b\n",
    "                moyenne[k]['h']+=h\n",
    "    error = dict()\n",
    "    cpt = 0\n",
    "    X = np.arange(5)\n",
    "    for k in moyenne.keys():\n",
    "        cpt +=1\n",
    "        for ag in ['r','b','c','h']:\n",
    "            moyenne[k][ag]=moyenne[k][ag]/nbIt\n",
    "        error[k] = dict()\n",
    "        error[k]['r']= max(0,abs(val[0][100][0]-moyenne[k]['r'])/(val[0][100][0]))\n",
    "        error[k]['b']= max(0,abs(val[0][100][1]-moyenne[k]['b'])/(val[0][100][1]))\n",
    "        error[k]['c']= max(0,abs(val[0][100][2]-moyenne[k]['c'])/(val[0][100][2]))\n",
    "        error[k]['h']= max(0,abs(val[0][100][3]-moyenne[k]['h'])/(val[0][100][3]))\n",
    "        error[k]['m']= (error[k]['r']+error[k]['b']+error[k]['c']+error[k]['h'])/4\n",
    "        print(error[k]['r'])\n",
    "        print(error[k]['m'])\n",
    "        values = [error[k]['r'],error[k]['b'],error[k]['c'],error[k]['h'],error[k]['m']]\n",
    "        plt.bar(cpt,error[k]['m'],width = 1)\n",
    "        #plt.bar(X+5*cpt, values,color=['red', 'green', 'blue', 'yellow','black'],width = 1)\n",
    "        #plt.bar(X+4*cpt, x,color=['red', 'green', 'blue', 'yellow'], width = 1)\n",
    "    plt.xlabel('Pourcentage de coalition étudié')\n",
    "    plt.ylabel('Taux d\\'erreur' )\n",
    "    plt.xticks([r+1 for r in range(len([0,15,30,50,70,90]))],[15,30,50,70,90])\n",
    "    \n",
    "    plt.show()\n",
    "    print(error)\n",
    "    return error\n",
    "\n"
   ]
  },
  {
   "cell_type": "code",
   "execution_count": 110,
   "metadata": {
    "scrolled": false
   },
   "outputs": [
    {
     "name": "stdout",
     "output_type": "stream",
     "text": [
      "0\n",
      "0.15201838194030054\n",
      "0\n",
      "0.08350959107104798\n",
      "0\n",
      "0.035585652210132074\n",
      "0\n",
      "0.025304771593758733\n",
      "0\n",
      "0.020845420669523017\n",
      "0\n",
      "0.0\n"
     ]
    },
    {
     "data": {
      "image/png": "[encoded data removed]",
      "text/plain": [
       "<matplotlib.figure.Figure at 0x7f1f13aa9f98>"
      ]
     },
     "metadata": {},
     "output_type": "display_data"
    },
    {
     "name": "stdout",
     "output_type": "stream",
     "text": [
      "{15: {'r': 0, 'b': 0.10429447852760758, 'c': 0.1282051282051282, 'h': 0.3755739210284664, 'm': 0.15201838194030054}, 30: {'r': 0, 'b': 0.07770961145194272, 'c': 0.055226824457593617, 'h': 0.2011019283746556, 'm': 0.08350959107104798}, 50: {'r': 0, 'b': 0.06257668711656439, 'c': 0.014201183431952863, 'h': 0.06556473829201105, 'm': 0.035585652210132074}, 70: {'r': 0, 'b': 0.022787028921998295, 'c': 0.0016906170752324537, 'h': 0.07674144037780418, 'm': 0.025304771593758733}, 90: {'r': 0, 'b': 0.022494887525562487, 'c': 0.02629848783694949, 'h': 0.03458830731558009, 'm': 0.020845420669523017}, 100: {'r': 0, 'b': 0, 'c': 0, 'h': 0, 'm': 0.0}}\n"
     ]
    },
    {
     "data": {
      "text/plain": [
       "{15: {'b': 0.10429447852760758,\n",
       "  'c': 0.1282051282051282,\n",
       "  'h': 0.3755739210284664,\n",
       "  'm': 0.15201838194030054,\n",
       "  'r': 0},\n",
       " 30: {'b': 0.07770961145194272,\n",
       "  'c': 0.055226824457593617,\n",
       "  'h': 0.2011019283746556,\n",
       "  'm': 0.08350959107104798,\n",
       "  'r': 0},\n",
       " 50: {'b': 0.06257668711656439,\n",
       "  'c': 0.014201183431952863,\n",
       "  'h': 0.06556473829201105,\n",
       "  'm': 0.035585652210132074,\n",
       "  'r': 0},\n",
       " 70: {'b': 0.022787028921998295,\n",
       "  'c': 0.0016906170752324537,\n",
       "  'h': 0.07674144037780418,\n",
       "  'm': 0.025304771593758733,\n",
       "  'r': 0},\n",
       " 90: {'b': 0.022494887525562487,\n",
       "  'c': 0.02629848783694949,\n",
       "  'h': 0.03458830731558009,\n",
       "  'm': 0.020845420669523017,\n",
       "  'r': 0},\n",
       " 100: {'b': 0, 'c': 0, 'h': 0, 'm': 0.0, 'r': 0}}"
      ]
     },
     "execution_count": 110,
     "metadata": {},
     "output_type": "execute_result"
    }
   ],
   "source": [
    "calculMoyenneErrorRate(5)"
   ]
  },
  {
   "cell_type": "code",
   "execution_count": 13,
   "metadata": {
    "scrolled": true
   },
   "outputs": [
    {
     "data": {
      "text/plain": [
       "{15: [-7.500000000000001,\n",
       "  5.277777777777779,\n",
       "  13.611111111111112,\n",
       "  12.500000000000002],\n",
       " 30: [-0.6944444444444445,\n",
       "  11.805555555555557,\n",
       "  15.555555555555557,\n",
       "  15.277777777777779],\n",
       " 50: [0.4166666666666667, 13.75, 15.333333333333334, 23.833333333333332],\n",
       " 70: [-3.333333333333334,\n",
       "  15.535714285714288,\n",
       "  15.17857142857143,\n",
       "  11.011904761904765],\n",
       " 90: [-2.268518518518518,\n",
       "  14.259259259259258,\n",
       "  14.722222222222221,\n",
       "  16.11111111111111],\n",
       " 100: [-2.25, 13.583333333333334, 14.083333333333334, 15.125]}"
      ]
     },
     "execution_count": 13,
     "metadata": {},
     "output_type": "execute_result"
    }
   ],
   "source": [
    "calcShapleyRSV(iAgent,iMaxAgent,False)"
   ]
  },
  {
   "cell_type": "code",
   "execution_count": 18,
   "metadata": {},
   "outputs": [
    {
     "name": "stdout",
     "output_type": "stream",
     "text": [
      "contribMarg de R : -15.000000000000002\n",
      "\n",
      "contribMarg de B : 90.55555555555557\n",
      "\n",
      "contribMarg de C : 93.8888888888889\n",
      "\n",
      "contribMarg de H : 100.83333333333334\n",
      "\n"
     ]
    },
    {
     "data": {
      "image/png": "[encoded data removed]",
      "text/plain": [
       "<Figure size 432x288 with 1 Axes>"
      ]
     },
     "metadata": {},
     "output_type": "display_data"
    }
   ],
   "source": [
    "calcShapley(iAgent,iMaxAgent,pourcentage)"
   ]
  }
 ],
 "metadata": {
  "kernelspec": {
   "display_name": "Python 3",
   "language": "python",
   "name": "python3"
  },
  "language_info": {
   "codemirror_mode": {
    "name": "ipython",
    "version": 3
   },
   "file_extension": ".py",
   "mimetype": "text/x-python",
   "name": "python",
   "nbconvert_exporter": "python",
   "pygments_lexer": "ipython3",
   "version": "3.6.7"
  }
 },
 "nbformat": 4,
 "nbformat_minor": 2
}
