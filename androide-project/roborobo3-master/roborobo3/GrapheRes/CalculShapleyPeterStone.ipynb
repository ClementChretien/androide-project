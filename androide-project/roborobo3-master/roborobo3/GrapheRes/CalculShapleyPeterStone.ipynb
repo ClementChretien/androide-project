{
 "cells": [
  {
   "cell_type": "code",
   "execution_count": 3,
   "metadata": {},
   "outputs": [],
   "source": [
    "import math\n",
    "import matplotlib.pyplot as plt\n",
    "import random\n",
    "pourcentage = 15\n",
    "iAgent = 1\n",
    "iMaxAgent = 10"
   ]
  },
  {
   "cell_type": "code",
   "execution_count": 4,
   "metadata": {},
   "outputs": [],
   "source": [
    "def getTabFile(f):\n",
    "    fp = open(f,'r')\n",
    "    line = fp.readline()\n",
    "    d = dict()\n",
    "    i = 0\n",
    "    while line:\n",
    "        if not('R' in line):\n",
    "            comb,val = line.split(\" \") \n",
    "            d[comb]=val\n",
    "        line = fp.readline()\n",
    "    fp.close()\n",
    "    return d\n",
    "\n",
    "\n",
    "def findValueInFile(f,val):\n",
    "    fp = open(f,'r')\n",
    "    line = fp.readline()\n",
    "    while line:\n",
    "        if(val in line):\n",
    "            comb,val = line.split(\" \")\n",
    "            fp.close()\n",
    "            return val\n",
    "        line = fp.readline()\n",
    "\n",
    "    fp.close()\n",
    "    return -1\n",
    "\n",
    "\n"
   ]
  },
  {
   "cell_type": "code",
   "execution_count": 102,
   "metadata": {},
   "outputs": [],
   "source": [
    "\n",
    "def calcShapley(ag1,ag2,equipeInit,itMax = 25,verbose = True):\n",
    "    r0=0\n",
    "    r1=0\n",
    "    dic = dict()\n",
    "    for i in range(1,11):\n",
    "        fName = \"ResultatEval\"+str(i)+\".txt\"\n",
    "        dic[i] = getTabFile(fName)\n",
    "    calcMargFile = open(\"CalculContribMarginaleRSV\"+str(pourcentage)+\"_Totaltxt\",\"w\")\n",
    "    agent = ['R','B','C','H']\n",
    "    comb=[]\n",
    "    k=dic.keys()\n",
    "    it = 0\n",
    "    while(it < itMax):\n",
    "        equipe = equipeInit\n",
    "        it+=1\n",
    "        #Pick random team\n",
    "        r=20\n",
    "        b=20\n",
    "        c=20\n",
    "        h=20\n",
    "        cpt = 0\n",
    "        while(r+b+c+h>=10 and cpt < 20):\n",
    "            cpt+=1\n",
    "            r = int(random.uniform(0,1)*equipe[0])\n",
    "            b = int(random.uniform(0,1)*equipe[1])\n",
    "            c = int(random.uniform(0,1)*equipe[2])\n",
    "            h = int(random.uniform(0,1)*equipe[3])\n",
    "        if(cpt == 20):\n",
    "            print(r)\n",
    "            print(b)\n",
    "            print(c)\n",
    "            print(h)\n",
    "            print(\"er\")\n",
    "            break;\n",
    "        toFind = str(r+int(ag1==0))+\"/\"+str(b+int(ag1==1))+\"/\"+str(c+int(ag1==2))+\"/\"+str(h+int(ag1==3))\n",
    "        toFind2= str(r+int(ag2==0))+\"/\"+str(b+int(ag2==1))+\"/\"+str(c+int(ag2==2))+\"/\"+str(h+int(ag2==3))\n",
    "        r0 += int(dic[r+b+c+h+1][toFind])\n",
    "        r1 += int(dic[r+b+c+h+1][toFind2])\n",
    "    if(verbose):\n",
    "        print(\"Agent : \"+agent[ag1]+\" meilleur que \"+agent[ag2]+\" ?\")\n",
    "        print(r0>r1)\n",
    "    return r0,r1\n"
   ]
  },
  {
   "cell_type": "code",
   "execution_count": 94,
   "metadata": {
    "scrolled": true
   },
   "outputs": [
    {
     "name": "stdout",
     "output_type": "stream",
     "text": [
      "[0, 1, 0, 4]\n",
      "Agent : H meilleur que B ?\n",
      "False\n",
      "(0, 313)\n"
     ]
    }
   ],
   "source": [
    "r=20\n",
    "b=20\n",
    "c=20\n",
    "h=20\n",
    "cpt = 0\n",
    "while(r+b+c+h>=10 or r+b+c+h<5):\n",
    "    cpt+=1\n",
    "    r = int(random.uniform(0,1)*5)\n",
    "    b = int(random.uniform(0,1)*5)\n",
    "    c = int(random.uniform(0,1)*5)\n",
    "    h = int(random.uniform(0,1)*5)\n",
    "equipe = [r,b,c,h]\n",
    "print(equipe)\n",
    "print(calcShapley(3,1,equipe))"
   ]
  },
  {
   "cell_type": "code",
   "execution_count": 111,
   "metadata": {},
   "outputs": [],
   "source": [
    "def calculateRank():\n",
    "    comb = [(0,1),(0,2),(0,3),(1,2),(1,3),(2,3)]\n",
    "    re = dict()\n",
    "    for co in comb:\n",
    "        re[co]=0\n",
    "        for i in range(5):\n",
    "            r=20\n",
    "            b=20\n",
    "            c=20\n",
    "            h=20\n",
    "            while(r+b+c+h>=10 or r+b+c+h<5):\n",
    "                r = int(random.uniform(0,1)*5)\n",
    "                b = int(random.uniform(0,1)*5)\n",
    "                c = int(random.uniform(0,1)*5)\n",
    "                h = int(random.uniform(0,1)*5)\n",
    "            a1,a2=co\n",
    "            r0,r1 = calcShapley(a1,a2,equipe,25,False)\n",
    "            re[co]+=(r0-r1)\n",
    "    print(re)\n",
    "    agent=['R','B','C','H']\n",
    "    for co in comb:\n",
    "        ag1,ag2=co\n",
    "        print(\"Agent : \"+agent[ag1]+\" meilleur que \"+agent[ag2]+\" ?\")\n",
    "        print(re[co]>0)\n",
    "        "
   ]
  },
  {
   "cell_type": "code",
   "execution_count": 112,
   "metadata": {},
   "outputs": [
    {
     "name": "stdout",
     "output_type": "stream",
     "text": [
      "{(0, 1): -1508, (1, 2): 561, (1, 3): 1571, (2, 3): 827, (0, 3): 0, (0, 2): -787}\n",
      "Agent : R meilleur que B ?\n",
      "False\n",
      "Agent : R meilleur que C ?\n",
      "False\n",
      "Agent : R meilleur que H ?\n",
      "False\n",
      "Agent : B meilleur que C ?\n",
      "True\n",
      "Agent : B meilleur que H ?\n",
      "True\n",
      "Agent : C meilleur que H ?\n",
      "True\n"
     ]
    }
   ],
   "source": [
    "calculateRank()"
   ]
  }
 ],
 "metadata": {
  "kernelspec": {
   "display_name": "Python 3",
   "language": "python",
   "name": "python3"
  },
  "language_info": {
   "codemirror_mode": {
    "name": "ipython",
    "version": 3
   },
   "file_extension": ".py",
   "mimetype": "text/x-python",
   "name": "python",
   "nbconvert_exporter": "python",
   "pygments_lexer": "ipython3",
   "version": "3.5.3"
  }
 },
 "nbformat": 4,
 "nbformat_minor": 2
}
